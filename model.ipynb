{
 "cells": [
  {
   "cell_type": "markdown",
   "metadata": {},
   "source": [
    "## **Deepfake Detection with a Convolutional Neural Network**\n",
    "Daniel Radunsky, Adam Torres Encarnacion"
   ]
  },
  {
   "cell_type": "markdown",
   "metadata": {},
   "source": [
    "#### **Import Packages**"
   ]
  },
  {
   "cell_type": "code",
   "execution_count": 131,
   "metadata": {},
   "outputs": [],
   "source": [
    "import torch\n",
    "import torch.nn as nn\n",
    "import torch.nn.functional as F\n",
    "import torch.optim as optim\n",
    "from torch.optim import Adam\n",
    "from torchvision import datasets, transforms\n",
    "from torch.utils.data import DataLoader, Subset, ConcatDataset\n",
    "import matplotlib.pyplot as plt\n",
    "import numpy as np"
   ]
  },
  {
   "cell_type": "markdown",
   "metadata": {},
   "source": [
    "#### **Unzip Files (Only if Needed, Works Faster than Windows)**"
   ]
  },
  {
   "cell_type": "code",
   "execution_count": null,
   "metadata": {},
   "outputs": [],
   "source": [
    "import zipfile\n",
    "from pathlib import Path\n",
    "from tqdm import tqdm\n",
    "\n",
    "def unzip_file(zip_path, output_dir):\n",
    "    with zipfile.ZipFile(zip_path, 'r') as zip_ref:\n",
    "        # Get a list of all the files in the zip archive\n",
    "        files = zip_ref.namelist()\n",
    "        \n",
    "        # Show progress bar while extracting\n",
    "        for file in tqdm(files, desc=\"Unzipping\", unit=\"file\"):\n",
    "            zip_ref.extract(file, output_dir)\n",
    "\n",
    "# Path to the zip file\n",
    "zip_path = Path(r\"c:\\Users\\kingd\\Downloads\\Dataset.zip\")\n",
    "# Directory to extract to\n",
    "output_dir = Path(\"./data\")\n",
    "\n",
    "# Unzip the file\n",
    "unzip_file(zip_path, output_dir)"
   ]
  },
  {
   "cell_type": "markdown",
   "metadata": {},
   "source": [
    "#### **Load Data**"
   ]
  },
  {
   "cell_type": "code",
   "execution_count": null,
   "metadata": {},
   "outputs": [],
   "source": [
    "train_dir = './data/Train'\n",
    "test_dir = './data/Test'\n",
    "\n",
    "transform = transforms.Compose([\n",
    "    transforms.Resize((128, 128)),  # RESIZE TO 128X128\n",
    "    transforms.ToTensor(),  # MAKE THE IMAGES TENSORS\n",
    "    transforms.Normalize(mean=[0.5, 0.5, 0.5], std=[0.5, 0.5, 0.5])  # NORMALIZE PICTURES\n",
    "    #transforms.Normalize(mean=[0.485, 0.456, 0.406], std=[0.229, 0.224, 0.225])\n",
    "])\n",
    "\n",
    "train_dataset = datasets.ImageFolder(root=train_dir, transform=transform)\n",
    "test_dataset = datasets.ImageFolder(root=test_dir, transform=transform)\n",
    "\n",
    "real_class_idx = train_dataset.class_to_idx['Real']\n",
    "fake_class_idx = train_dataset.class_to_idx['Fake']\n",
    "\n",
    "real_train_indices = [i for i, target in enumerate(train_dataset.targets) if target == real_class_idx]\n",
    "fake_train_indices = [i for i, target in enumerate(train_dataset.targets) if target == fake_class_idx]\n",
    "train_indices = real_train_indices[:20000] + fake_train_indices[:20000]\n",
    "\n",
    "real_test_indices = [i for i, target in enumerate(test_dataset.targets) if target == real_class_idx]\n",
    "fake_test_indices = [i for i, target in enumerate(test_dataset.targets) if target == fake_class_idx]\n",
    "test_indices = real_test_indices[:5000] + fake_test_indices[:5000]\n",
    "\n",
    "train_subset = Subset(train_dataset, train_indices)\n",
    "test_subset = Subset(test_dataset, test_indices)\n",
    "\n",
    "# LOAD IN TRAIN/TEST DATA\n",
    "train_loader = DataLoader(train_subset, batch_size=32, shuffle=True)\n",
    "test_loader = DataLoader(test_subset, batch_size=32, shuffle=False)"
   ]
  },
  {
   "cell_type": "markdown",
   "metadata": {},
   "source": [
    "#### **Architecture**"
   ]
  },
  {
   "cell_type": "code",
   "execution_count": null,
   "metadata": {},
   "outputs": [],
   "source": [
    "'''class Detector(nn.Module):\n",
    "    def __init__(self):\n",
    "        super(Detector, self).__init__()\n",
    "        self.features = nn.Sequential(\n",
    "            nn.Conv2d(3, 16, 3, 1),  # CONVOLUTIONAL LAYER 1 (3 KERNEL SIZE , 1 STRIDE)\n",
    "            nn.ReLU(), # RELU ACTIVATION FOR LAYER 1\n",
    "            nn.Conv2d(16, 4, 1), # CONVOLUTIONAL LAYER 2\n",
    "            nn.ReLU(), # RELU ACTIVATION FOR LAYER 2\n",
    "            nn.BatchNorm2d(4), # NORMALIZE VALUES (4 FEATURES)\n",
    "            nn.MaxPool2d(8, 8) # MAX POOLING (8 KERNEL SIZE, 8 STRIDE)\n",
    "        )\n",
    "\n",
    "\n",
    "        self.classifier = nn.Sequential(\n",
    "            nn.Flatten(),\n",
    "            nn.Dropout(0.5), # HELPS WITH OVERFITTING\n",
    "            nn.Linear(4 * 15 * 15, 1),\n",
    "            nn.Sigmoid()  # NORMALIZE TO [0,1] RANGE\n",
    "        )\n",
    "\n",
    "    def forward(self, x): # FEEDFORWARD PHASE\n",
    "        x = self.features(x)\n",
    "        x = self.classifier(x)\n",
    "        return x'''"
   ]
  },
  {
   "cell_type": "code",
   "execution_count": null,
   "metadata": {},
   "outputs": [],
   "source": [
    "class Detector(nn.Module):\n",
    "    def __init__(self):\n",
    "        super(Detector, self).__init__()\n",
    "\n",
    "        # CONVOLUTIONAL LAYER 1\n",
    "        self.conv1 = nn.Conv2d(3, 32, kernel_size=3, padding=1)\n",
    "        self.bn1 = nn.BatchNorm2d(32) # NORMALIZE BATCH\n",
    "        self.pool1 = nn.MaxPool2d(3) # MAXPOOL W/ KERNEL SIZE 3\n",
    "        self.dropout1 = nn.Dropout(0.5) # 50% DROPOUT\n",
    "\n",
    "        # CONVOLUTIONAL LAYER 2\n",
    "        self.conv2 = nn.Conv2d(32, 64, kernel_size=3, padding=1)\n",
    "        self.bn2 = nn.BatchNorm2d(64) # NORMALIZE BATCH\n",
    "        self.conv3 = nn.Conv2d(64, 64, kernel_size=3, padding=1)\n",
    "        self.bn3 = nn.BatchNorm2d(64) # NORMALIZE BATCH\n",
    "        self.pool2 = nn.MaxPool2d(2) # MAXPOOL W/ KERNEL SIZE 2\n",
    "        self.dropout2 = nn.Dropout(0.5) # 50% DROPOUT\n",
    "        \n",
    "        # CONVOLUTIONAL LAYER 3\n",
    "        self.conv4 = nn.Conv2d(64, 128, kernel_size=3, padding=1)\n",
    "        self.bn4 = nn.BatchNorm2d(128) # NORMALIZE BATCH\n",
    "        self.conv5 = nn.Conv2d(128, 128, kernel_size=3, padding=1)\n",
    "        self.bn5 = nn.BatchNorm2d(128) \n",
    "        self.pool3 = nn.MaxPool2d(2) # MAXPOOL W/ KERNEL SIZE 2\n",
    "        self.dropout3 = nn.Dropout(0.25) # 25% DROPOUT\n",
    "        \n",
    "        # FULLY CONNECTED LAYER\n",
    "        self.flatten = nn.Flatten()\n",
    "        self.fc1 = nn.Linear(12800, 1024) # FEATURE MAP SIZE\n",
    "        self.bn6 = nn.BatchNorm1d(1024)\n",
    "        self.dropout4 = nn.Dropout(0.5)\n",
    "        self.fc2 = nn.Linear(1024, 1)\n",
    "        \n",
    "    # FEEDFORWARD PHASE\n",
    "    def forward(self, x):\n",
    "        # CONVOLUTIONAL LAYER 1\n",
    "        x = F.relu(self.bn1(self.conv1(x))) # RELU FUNCTION\n",
    "        x = self.pool1(x)\n",
    "        x = self.dropout1(x) # APPLY DROPOUT\n",
    "        \n",
    "        # CONVOLUTIONAL LAYER 2\n",
    "        x = F.relu(self.bn2(self.conv2(x))) # RELU\n",
    "        x = F.relu(self.bn3(self.conv3(x))) # RELU\n",
    "        x = self.pool2(x)\n",
    "        x = self.dropout2(x) # APPLY DROPOUT\n",
    "        \n",
    "        # CONVOLUTIONAL LAYER 3\n",
    "        x = F.relu(self.bn4(self.conv4(x))) # RELU FUNCTION\n",
    "        x = F.relu(self.bn5(self.conv5(x))) # RELU FUNCTION\n",
    "        x = self.pool3(x) # APPLY POOLING\n",
    "        x = self.dropout3(x) # APPLY DROPOUT\n",
    "        \n",
    "        # FULLY CONNECTED LAYER\n",
    "        x = self.flatten(x)\n",
    "        x = F.relu(self.bn6(self.fc1(x)))\n",
    "        x = self.dropout4(x)\n",
    "        x = torch.sigmoid(self.fc2(x)) # SIGMOID TO NORMALIZE [0,1]\n",
    "        return x"
   ]
  },
  {
   "cell_type": "markdown",
   "metadata": {},
   "source": [
    "#### **GPU Optimization**"
   ]
  },
  {
   "cell_type": "code",
   "execution_count": 169,
   "metadata": {},
   "outputs": [
    {
     "name": "stdout",
     "output_type": "stream",
     "text": [
      "cuda\n"
     ]
    }
   ],
   "source": [
    "device = torch.device(\"cuda\" if torch.cuda.is_available() else \"cpu\") # OPTIMIZE TO GPU\n",
    "print(device)\n",
    "model = Detector().to(device)"
   ]
  },
  {
   "cell_type": "markdown",
   "metadata": {},
   "source": [
    "#### **Calculate Accuracy**"
   ]
  },
  {
   "cell_type": "code",
   "execution_count": 170,
   "metadata": {},
   "outputs": [],
   "source": [
    "criterion = nn.BCELoss() # BINARY CROSS ENTROPY LOSS (BINARY CLASSIFICATION FOR REAL/FAKE)\n",
    "optimizer = optim.Adam(model.parameters(), lr=0.0001, weight_decay=1e-5) # LOW LR ADAM OPTIMIZER\n",
    "\n",
    "def calculate_accuracy(outputs, labels): \n",
    "    predicted = (outputs > 0.5).float() # VALUES CLOSER TO 0 ARE FAKE, CLOSER TO 1 ARE REAL\n",
    "    correct = (predicted == labels).sum().item() \n",
    "    total = labels.size(0)\n",
    "    accuracy = correct / total\n",
    "    return accuracy\n"
   ]
  },
  {
   "cell_type": "markdown",
   "metadata": {},
   "source": [
    "#### **Training/Testing Loop**"
   ]
  },
  {
   "cell_type": "code",
   "execution_count": 171,
   "metadata": {},
   "outputs": [
    {
     "name": "stdout",
     "output_type": "stream",
     "text": [
      "Epoch 1:\n",
      "Training Loss: 0.4475, Training Accuracy: 78.70%\n",
      "Testing Loss: 0.3703, Testing Accuracy: 66.27%\n",
      "Epoch 2:\n",
      "Training Loss: 0.3298, Training Accuracy: 85.33%\n",
      "Testing Loss: 0.3045, Testing Accuracy: 74.68%\n",
      "Epoch 3:\n",
      "Training Loss: 0.2740, Training Accuracy: 88.31%\n",
      "Testing Loss: 0.3112, Testing Accuracy: 79.87%\n",
      "Epoch 4:\n",
      "Training Loss: 0.2307, Training Accuracy: 90.21%\n",
      "Testing Loss: 0.3601, Testing Accuracy: 83.09%\n",
      "Epoch 5:\n",
      "Training Loss: 0.2092, Training Accuracy: 91.39%\n",
      "Testing Loss: 0.2172, Testing Accuracy: 83.80%\n",
      "Epoch 6:\n",
      "Training Loss: 0.1884, Training Accuracy: 92.10%\n",
      "Testing Loss: 0.1500, Testing Accuracy: 84.13%\n",
      "Epoch 7:\n",
      "Training Loss: 0.1740, Training Accuracy: 92.92%\n",
      "Testing Loss: 0.1990, Testing Accuracy: 83.93%\n",
      "Epoch 8:\n",
      "Training Loss: 0.1602, Training Accuracy: 93.53%\n",
      "Testing Loss: 0.1451, Testing Accuracy: 83.97%\n",
      "Epoch 9:\n",
      "Training Loss: 0.1474, Training Accuracy: 94.04%\n",
      "Testing Loss: 0.1200, Testing Accuracy: 82.80%\n",
      "Epoch 10:\n",
      "Training Loss: 0.1425, Training Accuracy: 94.25%\n",
      "Testing Loss: 0.0709, Testing Accuracy: 84.74%\n"
     ]
    }
   ],
   "source": [
    "train_losses = []\n",
    "test_losses = []\n",
    "train_accuracies = []\n",
    "test_accuracies = []\n",
    "\n",
    "num_epochs = 10\n",
    "for epoch in range(num_epochs): # 10 EPOCHS\n",
    "    model.train() # TRAINING LOOP\n",
    "    current_loss = 0.0\n",
    "    running_corrects = 0\n",
    "\n",
    "    \n",
    "    for images, labels in train_loader: \n",
    "        images, labels = images.to(device), labels.float().to(device)\n",
    "\n",
    "        optimizer.zero_grad() # SET GRADIENTS TO ZERO\n",
    "\n",
    "        outputs = model(images) \n",
    "        loss = criterion(outputs.squeeze(), labels)\n",
    "\n",
    "        loss.backward() # BACKPROPAGATION\n",
    "        optimizer.step()\n",
    "\n",
    "        current_loss += loss.item() # CALCULATE LOSS VALUE THROUGHOUT TRAINING\n",
    "        running_corrects += calculate_accuracy(outputs.squeeze(), labels)  \n",
    "\n",
    "    \n",
    "    train_loss = current_loss / len(train_loader) # TRAINING LOSS\n",
    "    train_accuracy = running_corrects / len(train_loader) # TRAINING ACCURACY\n",
    "\n",
    "   \n",
    "    model.eval()\n",
    "    current_loss = 0.0\n",
    "    current_correct = 0\n",
    "    total_samples = 0\n",
    "\n",
    "    # TESTING LOOP\n",
    "    with torch.no_grad():\n",
    "        for images, labels in test_loader:\n",
    "            images, labels = images.to(device), labels.to(device)\n",
    "            outputs = model(images)\n",
    "            current_loss += loss.item() \n",
    "            current_correct += calculate_accuracy(outputs.squeeze(), labels) \n",
    "            total_samples += labels.size(0)\n",
    "        \n",
    "    test_loss = current_loss / len(test_loader)\n",
    "    test_accuracy = current_correct / len(test_loader)\n",
    "\n",
    "    train_losses.append(train_loss)\n",
    "    test_losses.append(test_loss)\n",
    "    train_accuracies.append(train_accuracy)\n",
    "    test_accuracies.append(test_accuracy)\n",
    "\n",
    "    \n",
    "    print(f\"Epoch {epoch + 1}:\")\n",
    "    print(f\"Training Loss: {train_loss:.4f}, Training Accuracy: {train_accuracy * 100:.2f}%\")\n",
    "    print(f\"Testing Loss: {test_loss:.4f}, Testing Accuracy: {100 * test_accuracy:.2f}%\")"
   ]
  },
  {
   "cell_type": "code",
   "execution_count": 172,
   "metadata": {},
   "outputs": [
    {
     "name": "stdout",
     "output_type": "stream",
     "text": [
      "Train Losses:  [0.44749737141132356, 0.32983715922236445, 0.2739530639052391, 0.2306885313183069, 0.20923703946471214, 0.1883759422749281, 0.1740090962290764, 0.1602078986287117, 0.14742100633084773, 0.1424818656757474]\n",
      "Train Accuracies:  [0.78705, 0.8533, 0.88305, 0.902075, 0.913925, 0.920975, 0.92915, 0.93535, 0.940375, 0.94245]\n",
      "Test Losses:  [0.37027156352996826, 0.30445587635040283, 0.31115320324897766, 0.3601224720478058, 0.2171623408794403, 0.15002064406871796, 0.19897150993347168, 0.14512039721012115, 0.11997048556804657, 0.0709179937839508]\n",
      "Test Accuracies:  [0.6627396166134185, 0.7468051118210862, 0.7987220447284346, 0.830870607028754, 0.8379592651757188, 0.8412539936102237, 0.8392571884984026, 0.8396565495207667, 0.8279752396166135, 0.847444089456869]\n"
     ]
    }
   ],
   "source": [
    "print(\"Train Losses: \", train_losses)\n",
    "print(\"Train Accuracies: \", train_accuracies)\n",
    "\n",
    "print(\"Test Losses: \", test_losses)\n",
    "print(\"Test Accuracies: \", test_accuracies)"
   ]
  },
  {
   "cell_type": "markdown",
   "metadata": {},
   "source": [
    "#### **Plot Train/Test Loss**"
   ]
  },
  {
   "cell_type": "code",
   "execution_count": 173,
   "metadata": {},
   "outputs": [
    {
     "data": {
      "image/png": "[encoded data removed]",
      "text/plain": [
       "<Figure size 1200x600 with 1 Axes>"
      ]
     },
     "metadata": {},
     "output_type": "display_data"
    }
   ],
   "source": [
    "plt.figure(figsize=(12, 6))\n",
    "plt.subplot(1, 2, 1)\n",
    "plt.plot(range(1, num_epochs + 1), train_losses, label='Train Loss', color='blue')\n",
    "plt.plot(range(1, num_epochs + 1), test_losses, label='Test Loss', color='red')\n",
    "plt.xlabel('Epochs')\n",
    "plt.ylabel('Loss')\n",
    "plt.title('Training and Testing Loss')\n",
    "plt.legend()\n",
    "plt.show()"
   ]
  },
  {
   "cell_type": "markdown",
   "metadata": {},
   "source": [
    "#### **Plot Train/Test Accuracy**"
   ]
  },
  {
   "cell_type": "code",
   "execution_count": 174,
   "metadata": {},
   "outputs": [
    {
     "data": {
      "image/png": "[encoded data removed]",
      "text/plain": [
       "<Figure size 1200x600 with 1 Axes>"
      ]
     },
     "metadata": {},
     "output_type": "display_data"
    }
   ],
   "source": [
    "plt.figure(figsize=(12,6))\n",
    "plt.subplot(1, 2, 2)\n",
    "plt.plot(range(1, num_epochs + 1), train_accuracies, label='Train Accuracy', color='blue')\n",
    "plt.plot(range(1, num_epochs + 1), test_accuracies, label='Test Accuracy', color='red')\n",
    "plt.xlabel('Epochs')\n",
    "plt.ylabel('Accuracy')\n",
    "plt.title('Training and Testing Accuracy')\n",
    "plt.legend()\n",
    "plt.show()\n"
   ]
  }
 ],
 "metadata": {
  "kernelspec": {
   "display_name": "Python 3",
   "language": "python",
   "name": "python3"
  },
  "language_info": {
   "codemirror_mode": {
    "name": "ipython",
    "version": 3
   },
   "file_extension": ".py",
   "mimetype": "text/x-python",
   "name": "python",
   "nbconvert_exporter": "python",
   "pygments_lexer": "ipython3",
   "version": "3.11.9"
  }
 },
 "nbformat": 4,
 "nbformat_minor": 2
}
