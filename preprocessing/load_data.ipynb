{
 "cells": [
  {
   "cell_type": "code",
   "execution_count": 1,
   "metadata": {
    "_cell_guid": "b1076dfc-b9ad-4769-8c92-a6c4dae69d19",
    "_uuid": "8f2839f25d086af736a60e9eeb907d3b93b6e0e5",
    "execution": {
     "iopub.execute_input": "2024-11-06T23:55:29.639839Z",
     "iopub.status.busy": "2024-11-06T23:55:29.639465Z",
     "iopub.status.idle": "2024-11-06T23:55:29.967841Z",
     "shell.execute_reply": "2024-11-06T23:55:29.966591Z",
     "shell.execute_reply.started": "2024-11-06T23:55:29.639784Z"
    }
   },
   "outputs": [],
   "source": [
    "import argparse # Handle command line args\n",
    "import os \n",
    "import random\n",
    "import subprocess # Enables extra cmds outside Python\n",
    "from functools import partial # Creates new func with pre-existing args\n",
    "from glob import glob # Finds paths matching a pattern\n",
    "from multiprocessing.pool import Pool # Provides a pool of worker processes for parallel execution\n",
    "from os import cpu_count # Retrieves the number of CPU cores available\n",
    "\n",
    "import cv2\n",
    "from tqdm import tqdm # Progress bars for Loops"
   ]
  },
  {
   "cell_type": "code",
   "execution_count": 2,
   "metadata": {
    "execution": {
     "iopub.execute_input": "2024-11-06T17:35:54.188705Z",
     "iopub.status.busy": "2024-11-06T17:35:54.188146Z",
     "iopub.status.idle": "2024-11-06T17:35:54.195371Z",
     "shell.execute_reply": "2024-11-06T17:35:54.193796Z",
     "shell.execute_reply.started": "2024-11-06T17:35:54.188618Z"
    }
   },
   "outputs": [],
   "source": [
    "cv2.ocl.setUseOpenCL(False)\n",
    "cv2.setNumThreads(0)"
   ]
  },
  {
   "cell_type": "code",
   "execution_count": 3,
   "metadata": {
    "execution": {
     "iopub.execute_input": "2024-11-07T00:07:13.744767Z",
     "iopub.status.busy": "2024-11-07T00:07:13.744393Z",
     "iopub.status.idle": "2024-11-07T00:07:13.762884Z",
     "shell.execute_reply": "2024-11-07T00:07:13.761552Z",
     "shell.execute_reply.started": "2024-11-07T00:07:13.744710Z"
    }
   },
   "outputs": [
    {
     "name": "stdout",
     "output_type": "stream",
     "text": [
      "Could not process video: Command 'ffmpeg -i /kaggle/input/deepfake-detection-challenge/train_sample_videos/aagfhgtpmv.mp4 -c:v libx264 -crf 32 ' returned non-zero exit status 127.\n"
     ]
    }
   ],
   "source": [
    "sample_vid = 'aagfhgtpmv.mp4'\n",
    "vid_dir = f'/kaggle/input/deepfake-detection-challenge/train_sample_videos/{sample_vid}'\n",
    "\n",
    "compression_level = random.choice([23, 28, 32])\n",
    "\n",
    "# Build the FFmpeg command for compression\n",
    "command = (\n",
    "    f\"ffmpeg -i {vid_dir} -c:v libx264 -crf {compression_level} \"\n",
    ")\n",
    "\n",
    "try:\n",
    "    # Execute the FFmpeg command\n",
    "    subprocess.check_output(command, shell=True, stderr=subprocess.STDOUT)\n",
    "except Exception as e:\n",
    "    # Handle exceptions and print a message if video processing fails\n",
    "    print(\"Could not process video:\", str(e))"
   ]
  },
  {
   "cell_type": "code",
   "execution_count": 4,
   "metadata": {},
   "outputs": [],
   "source": [
    "import os\n",
    "import random\n",
    "import subprocess\n",
    "\n",
    "def compress_video(video, root_dir):\n",
    "    \"\"\"\n",
    "    Compresses a video file using FFmpeg with a randomly selected compression level.\n",
    "    \n",
    "    Parameters:\n",
    "        video (str): The file path of the input video to compress.\n",
    "        root_dir (str): The root directory where the compressed video will be saved.\n",
    "    \n",
    "    Creates a subdirectory structure within `root_dir` under 'compressed' that mirrors\n",
    "    the original directory structure of the input video. Saves the compressed video \n",
    "    in the new directory.\n",
    "    \n",
    "    Compression uses the H.264 codec with a constant rate factor (CRF) chosen randomly \n",
    "    from a set of values to balance quality and file size.\n",
    "    \n",
    "    Raises:\n",
    "        Exception: If FFmpeg fails to process the video, an error message is printed.\n",
    "    \"\"\"\n",
    "    \n",
    "    # Extract the parent directory name from the video path to preserve structure\n",
    "    parent_dir = video.split(\"/\")[-2]\n",
    "    out_dir = os.path.join(root_dir, \"compressed\", parent_dir)\n",
    "\n",
    "    # Create the output directory if it doesn't already exist\n",
    "    os.makedirs(out_dir, exist_ok=True)\n",
    "\n",
    "    # Extract the video filename to use in the output path\n",
    "    video_name = video.split(\"/\")[-1]\n",
    "    out_path = os.path.join(out_dir, video_name)\n",
    "\n",
    "    # Select a random compression level for variable quality/size balance\n",
    "    compression_level = random.choice([23, 28, 32])\n",
    "\n",
    "    # Build the FFmpeg command for compression\n",
    "    command = (\n",
    "        f\"ffmpeg -i {video} -c:v libx264 -crf {compression_level} \"\n",
    "        f\"-threads 1 {out_path}\"\n",
    "    )\n",
    "\n",
    "    try:\n",
    "        # Execute the FFmpeg command\n",
    "        subprocess.check_output(command, shell=True, stderr=subprocess.STDOUT)\n",
    "    except Exception as e:\n",
    "        # Handle exceptions and print a message if video processing fails\n",
    "        print(\"Could not process video:\", str(e))\n"
   ]
  }
 ],
 "metadata": {
  "kaggle": {
   "accelerator": "none",
   "dataSources": [
    {
     "databundleVersionId": 858837,
     "sourceId": 16880,
     "sourceType": "competition"
    }
   ],
   "dockerImageVersionId": 29844,
   "isGpuEnabled": false,
   "isInternetEnabled": true,
   "language": "python",
   "sourceType": "notebook"
  },
  "kernelspec": {
   "display_name": "Python 3",
   "language": "python",
   "name": "python3"
  },
  "language_info": {
   "codemirror_mode": {
    "name": "ipython",
    "version": 3
   },
   "file_extension": ".py",
   "mimetype": "text/x-python",
   "name": "python",
   "nbconvert_exporter": "python",
   "pygments_lexer": "ipython3",
   "version": "3.6.6"
  }
 },
 "nbformat": 4,
 "nbformat_minor": 4
}
